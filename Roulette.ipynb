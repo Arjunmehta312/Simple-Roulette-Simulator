{
 "cells": [
  {
   "cell_type": "markdown",
   "id": "7445c139-e225-4fb4-882a-c59ac26caf72",
   "metadata": {},
   "source": [
    "# Roulette"
   ]
  },
  {
   "cell_type": "markdown",
   "id": "917f92fb-35f7-4c09-8faa-2b01d00c20c5",
   "metadata": {},
   "source": [
    "Disclaimer:\n",
    "This Python Roulette Game is intended solely for entertainment purposes and does not involve real money or actual gambling. No financial transactions are associated with this game. The outcome of each spin is determined by random chance, and while players may choose different betting strategies, there is no guarantee of winning. Please play responsibly and within your means. If you experience any negative emotions related to gambling, consider seeking professional help."
   ]
  },
  {
   "cell_type": "code",
   "execution_count": 16,
   "id": "1aac3506-770d-4fe1-9035-d9fc6ff1cbec",
   "metadata": {},
   "outputs": [],
   "source": [
    "# Import libraries\n",
    "\n",
    "import tkinter as tk\n",
    "from tkinter import messagebox\n",
    "import random\n",
    "\n",
    "# tkinter: This is the standard Python interface to the Tk GUI toolkit. tkinter is used to create graphical user interfaces.\n",
    "# messagebox: This module in tkinter provides a simple way to create message boxes (e.g., for showing error or information messages).\n",
    "# random: This module provides functions to generate random numbers and to make random choices. It will be used to deal cards randomly from the deck."
   ]
  },
  {
   "cell_type": "code",
   "execution_count": 17,
   "id": "916ce841-efae-4b31-85ce-f28092b4a819",
   "metadata": {},
   "outputs": [],
   "source": [
    "# Starting balance\n",
    "balance=1000"
   ]
  },
  {
   "cell_type": "code",
   "execution_count": 18,
   "id": "5d930fa2-5412-4bd7-9483-f93ca5f233e5",
   "metadata": {},
   "outputs": [],
   "source": [
    "# LIST: Roulette wheel with 37 numbers (0-36)\n",
    "roulette_numbers=list(range(37))"
   ]
  },
  {
   "cell_type": "code",
   "execution_count": 19,
   "id": "e39de495-7e1e-485a-8918-08c661733d9c",
   "metadata": {},
   "outputs": [],
   "source": [
    "# DICTIONARY KEY-VALUE PAIR: Betting modes and payouts\n",
    "bet_options={\n",
    "    \"red\":1,      # betting on a red tile\n",
    "    \"black\":1,    # betting on a black tile\n",
    "    \"even\":1,     # betting on an even number\n",
    "    \"odd\":1,      # betting on an odd number\n",
    "    \"single\":35,  # betting on a single number\n",
    "    \"low\":1,      # low means the number is 1-18 \n",
    "    \"high\":1,     # high means the number is 19-36\n",
    "    \"column\":2,   # payout for column bet\n",
    "    \"dozen\":2,    # payout for dozen bet where 1st dozen is 1-12, 2nd dozen is 13-24 and 3rd dozen is 25-36\n",
    "}"
   ]
  },
  {
   "cell_type": "code",
   "execution_count": 20,
   "id": "b51620b0-3bfb-49d8-8aab-8bee5c649149",
   "metadata": {},
   "outputs": [],
   "source": [
    "# Function to display balance\n",
    "def display_balance():\n",
    "    balance_label.config(text=f\"Current balance: ₹{balance}\")"
   ]
  },
  {
   "cell_type": "code",
   "execution_count": 21,
   "id": "a05e5b7c-5dbf-4e8c-9e05-509594d16476",
   "metadata": {},
   "outputs": [],
   "source": [
    "def place_bet():\n",
    "    bet_window = tk.Toplevel(root)\n",
    "    bet_window.title(\"Place Your Bet\")\n",
    "\n",
    "    tk.Label(bet_window, text=\"Available betting options:\").pack()\n",
    "\n",
    "    bet_options = [\n",
    "        (\"Red\", 1),\n",
    "        (\"Black\", 2),\n",
    "        (\"Even\", 3),\n",
    "        (\"Odd\", 4),\n",
    "        (\"Single number (0-36)\", 5),\n",
    "        (\"Low (1-18)\", 6),\n",
    "        (\"High (19-36)\", 7),\n",
    "        (\"Column\", 8),\n",
    "        (\"Dozen\", 9),\n",
    "    ]\n",
    "\n",
    "    bet_type_var = tk.IntVar()\n",
    "    bet_type_var.set(1)\n",
    "\n",
    "    for text, value in bet_options:\n",
    "        tk.Radiobutton(bet_window, text=text, variable=bet_type_var, value=value).pack(anchor=tk.W)\n",
    "\n",
    "    tk.Label(bet_window, text=\"Enter your bet amount:\").pack()\n",
    "    bet_amount_entry = tk.Entry(bet_window)\n",
    "    bet_amount_entry.pack()\n",
    "\n",
    "    def confirm_bet():\n",
    "        bet_type = bet_type_var.get()\n",
    "        bet_amount = int(bet_amount_entry.get())\n",
    "\n",
    "        if bet_amount > balance:\n",
    "            messagebox.showerror(\"Error\", \"Insufficient funds! Place a smaller bet.\")\n",
    "            return\n",
    "\n",
    "        if bet_type == 5:\n",
    "            chosen_number = tk.simpledialog.askinteger(\"Input\", \"Enter the number you want to bet on (0-36):\", minvalue=0, maxvalue=36)\n",
    "            if chosen_number not in roulette_numbers:\n",
    "                messagebox.showerror(\"Error\", \"Choose a valid number!\")\n",
    "                return\n",
    "            spin_roulette(chosen_number, bet_amount, bet_type)\n",
    "        elif bet_type == 8:  # Column bet\n",
    "            column_choice = tk.simpledialog.askinteger(\"Input\", \"Enter the column you want to bet on (1, 2, or 3):\", minvalue=1, maxvalue=3)\n",
    "            if column_choice not in [1, 2, 3]:\n",
    "                messagebox.showerror(\"Error\", \"Invalid choice. Please select a valid column (1, 2, or 3).\")\n",
    "                return\n",
    "            spin_roulette(str(column_choice), bet_amount, bet_type)\n",
    "        elif bet_type == 9:  # Dozen bet\n",
    "            dozen_choice = tk.simpledialog.askinteger(\"Input\", \"Enter the dozen you want to bet on (1, 2, or 3):\", minvalue=1, maxvalue=3)\n",
    "            if dozen_choice not in [1, 2, 3]:\n",
    "                messagebox.showerror(\"Error\", \"Invalid choice. Please select a valid dozen (1, 2, or 3).\")\n",
    "                return\n",
    "            spin_roulette(str(dozen_choice), bet_amount, bet_type)\n",
    "        else:\n",
    "            spin_roulette(bet_type, bet_amount, bet_type)\n",
    "\n",
    "        bet_window.destroy()\n",
    "\n",
    "    tk.Button(bet_window, text=\"Place Bet\", command=confirm_bet).pack()"
   ]
  },
  {
   "cell_type": "code",
   "execution_count": 22,
   "id": "5740c148-17df-4404-9de5-e3718c0b4f03",
   "metadata": {},
   "outputs": [],
   "source": [
    "def spin_roulette(bet, bet_amount, bet_type):\n",
    "    global balance\n",
    "    result = random.choice(roulette_numbers)\n",
    "    result_label.config(text=f\"Roulette result: {result}\")\n",
    "    win = False\n",
    "    reason = \"\"\n",
    "\n",
    "    if bet_type == 5:  # Single number bet\n",
    "        if result == bet:\n",
    "            win = True\n",
    "            payout = bet_options['single'] * bet_amount\n",
    "            reason = f\"you bet on number {bet}.\"\n",
    "        else:\n",
    "            reason = f\"you bet on number {bet}.\"\n",
    "    else:\n",
    "        if bet_type == 1 and result in red_numbers():\n",
    "            win = True\n",
    "            payout = bet_options['red'] * bet_amount\n",
    "            reason = \"you bet on red.\"\n",
    "        elif bet_type == 2 and result in black_numbers():\n",
    "            win = True\n",
    "            payout = bet_options['black'] * bet_amount\n",
    "            reason = \"you bet on black.\"\n",
    "        elif bet_type == 3 and result % 2 == 0 and result != 0:\n",
    "            win = True\n",
    "            payout = bet_options['even'] * bet_amount\n",
    "            reason = \"you bet on even.\"\n",
    "        elif bet_type == 4 and result % 2 != 0:\n",
    "            win = True\n",
    "            payout = bet_options['odd'] * bet_amount\n",
    "            reason = \"you bet on odd.\"\n",
    "        elif bet_type == 6 and 1 <= result <= 18:\n",
    "            win = True\n",
    "            payout = bet_options['low'] * bet_amount\n",
    "            reason = \"you bet on low.\"\n",
    "        elif bet_type == 7 and 19 <= result <= 36:\n",
    "            win = True\n",
    "            payout = bet_options['high'] * bet_amount\n",
    "            reason = \"you bet on high.\"\n",
    "        elif bet_type == 8 and result in column_numbers(bet):\n",
    "            win = True\n",
    "            payout = bet_options['column'] * bet_amount\n",
    "            reason = f\"you bet on column {bet}.\"\n",
    "        elif bet_type == 9 and result in dozen_numbers(bet):\n",
    "            win = True\n",
    "            payout = bet_options['dozen'] * bet_amount\n",
    "            reason = f\"you bet on dozen {bet}.\"\n",
    "        else:\n",
    "            reason = f\"the result didn't match your bet.\"\n",
    "\n",
    "    if win:\n",
    "        messagebox.showinfo(\"Result\", f\"You won! Payout: ₹{payout} because {reason}\")\n",
    "        balance += payout\n",
    "    else:\n",
    "        messagebox.showinfo(\"Result\", f\"You lost ₹{bet_amount} because {reason}\")\n",
    "        balance -= bet_amount\n",
    "\n",
    "    display_balance()"
   ]
  },
  {
   "cell_type": "code",
   "execution_count": 23,
   "id": "3b879ea2-ad0d-4b41-9aa8-82c998967233",
   "metadata": {},
   "outputs": [],
   "source": [
    "def red_numbers():\n",
    "    return [1,3,5,7,9,12,14,16,18,19,21,23,25,27,30,32,34,36]"
   ]
  },
  {
   "cell_type": "code",
   "execution_count": 24,
   "id": "2e92cc20-06ad-499c-af62-df37946f45a9",
   "metadata": {},
   "outputs": [],
   "source": [
    "def black_numbers():\n",
    "    return [2,4,6,8,10,11,13,15,17,20,22,24,26,28,29,31,33,35]"
   ]
  },
  {
   "cell_type": "code",
   "execution_count": 25,
   "id": "1cf60f66-bf24-4b6c-b1a9-2cd3797b57be",
   "metadata": {},
   "outputs": [],
   "source": [
    "def column_numbers(column):\n",
    "    if column==\"1\":\n",
    "        return [1,4,7,10,13,16,19,22,25,28,31,34]\n",
    "    elif column==\"2\":\n",
    "        return [2,5,8,11,14,17,20,23,26,29,32,35]\n",
    "    elif column==\"3\":\n",
    "        return [3,6,9,12,15,18,21,24,27,30,33,36]"
   ]
  },
  {
   "cell_type": "code",
   "execution_count": 26,
   "id": "b4423f7c-3212-4c78-8b38-53e44ae8909b",
   "metadata": {},
   "outputs": [],
   "source": [
    "def dozen_numbers(dozen):\n",
    "    if dozen==\"1\":\n",
    "        return list(range(1,13))\n",
    "    elif dozen==\"2\":\n",
    "        return list(range(13,25))\n",
    "    elif dozen==\"3\":\n",
    "        return list(range(25,37))"
   ]
  },
  {
   "cell_type": "code",
   "execution_count": 27,
   "id": "9baa3671-daf5-48a7-bf51-65e3289bcaff",
   "metadata": {},
   "outputs": [],
   "source": [
    "def play_again():\n",
    "    play_more=messagebox.askyesno(\"Play Again\",\"Do you want to play again?\")\n",
    "    if play_more:        \n",
    "        place_bet()\n",
    "    else:\n",
    "        messagebox.showinfo(\"Roulette\",\"Roulette finished!\")\n",
    "        root.quit()"
   ]
  },
  {
   "cell_type": "code",
   "execution_count": null,
   "id": "5541edcc-83ab-4a2a-9c6d-e77f3d076ee3",
   "metadata": {},
   "outputs": [
    {
     "name": "stderr",
     "output_type": "stream",
     "text": [
      "Exception in Tkinter callback\n",
      "Traceback (most recent call last):\n",
      "  File \"C:\\Users\\arjun\\AppData\\Local\\Programs\\Python\\Python311\\Lib\\tkinter\\__init__.py\", line 1948, in __call__\n",
      "    return self.func(*args)\n",
      "           ^^^^^^^^^^^^^^^^\n",
      "  File \"C:\\Users\\arjun\\AppData\\Local\\Temp\\ipykernel_4656\\783528890.py\", line 50, in confirm_bet\n",
      "    dozen_choice = tk.simpledialog.askinteger(\"Input\", \"Enter the dozen you want to bet on (1, 2, or 3):\", minvalue=1, maxvalue=3)\n",
      "                   ^^^^^^^^^^^^^^^\n",
      "AttributeError: module 'tkinter' has no attribute 'simpledialog'\n"
     ]
    }
   ],
   "source": [
    "# Initialize Tkinter root window\n",
    "root=tk.Tk()\n",
    "root.title(\"Roulette Game\")\n",
    "\n",
    "balance_label=tk.Label(root,text=f\"Current balance: ₹{balance}\",font=(\"Helvetica\",14))\n",
    "balance_label.pack(pady=10)\n",
    "\n",
    "result_label=tk.Label(root,text=\"\",font=(\"Helvetica\",14))\n",
    "result_label.pack(pady=10)\n",
    "\n",
    "bet_button=tk.Button(root,text=\"Place Bet\",command=place_bet,font=(\"Helvetica\",14))\n",
    "bet_button.pack(pady=20)\n",
    "\n",
    "play_again_button=tk.Button(root,text=\"Play Again\",command=play_again,font=(\"Helvetica\",14))\n",
    "play_again_button.pack(pady=20)\n",
    "\n",
    "# Display initial balance\n",
    "display_balance()\n",
    "\n",
    "# Run the Tkinter event loop\n",
    "root.mainloop()"
   ]
  }
 ],
 "metadata": {
  "kernelspec": {
   "display_name": "Python 3 (ipykernel)",
   "language": "python",
   "name": "python3"
  },
  "language_info": {
   "codemirror_mode": {
    "name": "ipython",
    "version": 3
   },
   "file_extension": ".py",
   "mimetype": "text/x-python",
   "name": "python",
   "nbconvert_exporter": "python",
   "pygments_lexer": "ipython3",
   "version": "3.11.4"
  }
 },
 "nbformat": 4,
 "nbformat_minor": 5
}
